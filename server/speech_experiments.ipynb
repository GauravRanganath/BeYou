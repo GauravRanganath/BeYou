{
 "cells": [
  {
   "cell_type": "code",
   "execution_count": 2,
   "id": "63ec53d2",
   "metadata": {},
   "outputs": [],
   "source": [
    "import librosa\n",
    "import librosa.display\n",
    "import numpy as np\n",
    "import matplotlib.pyplot as plt\n",
    "import tensorflow as tf\n",
    "from matplotlib.pyplot import specgram\n",
    "import keras\n",
    "from keras.preprocessing import sequence\n",
    "from keras.models import Sequential\n",
    "from keras.layers import Dense, Embedding\n",
    "from keras.layers import LSTM\n",
    "from keras.preprocessing.text import Tokenizer\n",
    "from keras.utils import to_categorical\n",
    "from keras.layers import Input, Flatten, Dropout, Activation\n",
    "from keras.layers import Conv1D, MaxPooling1D, AveragePooling1D\n",
    "from keras.models import Model\n",
    "from keras.callbacks import ModelCheckpoint\n",
    "from sklearn.metrics import confusion_matrix"
   ]
  },
  {
   "cell_type": "code",
   "execution_count": 3,
   "id": "d12ef74c",
   "metadata": {},
   "outputs": [],
   "source": [
    "from keras import regularizers"
   ]
  },
  {
   "cell_type": "code",
   "execution_count": 14,
   "id": "429568da",
   "metadata": {},
   "outputs": [],
   "source": [
    "import os\n",
    "import shutil\n",
    "from pathlib import Path"
   ]
  },
  {
   "cell_type": "code",
   "execution_count": 15,
   "id": "d5596ca1",
   "metadata": {},
   "outputs": [],
   "source": [
    "mylist= os.listdir('Audio_Speech_Actors_01-24/')"
   ]
  },
  {
   "cell_type": "code",
   "execution_count": 16,
   "id": "b99faea2",
   "metadata": {},
   "outputs": [
    {
     "data": {
      "text/plain": [
       "['Actor_16',\n",
       " 'Actor_11',\n",
       " 'Actor_18',\n",
       " 'Actor_20',\n",
       " 'Actor_21',\n",
       " 'Actor_19',\n",
       " 'Actor_10',\n",
       " 'Actor_17',\n",
       " 'Actor_04',\n",
       " 'Actor_03',\n",
       " 'Actor_02',\n",
       " 'Actor_05',\n",
       " 'Actor_12',\n",
       " 'Actor_15',\n",
       " 'Actor_23',\n",
       " 'Actor_24',\n",
       " 'Actor_22',\n",
       " 'Actor_14',\n",
       " 'Actor_13',\n",
       " 'Actor_09',\n",
       " 'Actor_07',\n",
       " 'Actor_06',\n",
       " 'Actor_01',\n",
       " 'Actor_08']"
      ]
     },
     "execution_count": 16,
     "metadata": {},
     "output_type": "execute_result"
    }
   ],
   "source": [
    "mylist"
   ]
  },
  {
   "cell_type": "code",
   "execution_count": 21,
   "id": "7ecefe76",
   "metadata": {},
   "outputs": [],
   "source": [
    "new_dir = \"processed_audio_files\"\n",
    "for folder in mylist:\n",
    "    if folder!=\".DS_Store\":\n",
    "        for filename in os.listdir(f\"Audio_Speech_Actors_01-24/{folder}\"):\n",
    "            if filename!=\".DS_Store\":\n",
    "                new_filename = f\"{new_dir}/{filename}\"\n",
    "                shutil.copy(f\"Audio_Speech_Actors_01-24/{folder}/{filename}\",new_filename)"
   ]
  },
  {
   "cell_type": "code",
   "execution_count": 22,
   "id": "201917d2",
   "metadata": {},
   "outputs": [],
   "source": [
    "import pandas as pd\n",
    "import librosa\n",
    "import glob "
   ]
  },
  {
   "cell_type": "code",
   "execution_count": 23,
   "id": "f18ee87b",
   "metadata": {},
   "outputs": [],
   "source": [
    "mylist= os.listdir(new_dir)"
   ]
  },
  {
   "cell_type": "code",
   "execution_count": 24,
   "id": "81fd469e",
   "metadata": {},
   "outputs": [],
   "source": [
    "feeling_list=[]\n",
    "for item in mylist:\n",
    "    if item[6:-16]=='02':\n",
    "        feeling_list.append('calm')\n",
    "    elif item[6:-16]=='03':\n",
    "        feeling_list.append('happy')\n",
    "    elif item[6:-16]=='04':\n",
    "        feeling_list.append('sad')\n",
    "    elif item[6:-16]=='05':\n",
    "        feeling_list.append('angry')\n",
    "    elif item[6:-16]=='06':\n",
    "        feeling_list.append('fearful')"
   ]
  },
  {
   "cell_type": "code",
   "execution_count": 27,
   "id": "65878b6c",
   "metadata": {},
   "outputs": [],
   "source": [
    "labels = pd.DataFrame(feeling_list)"
   ]
  },
  {
   "cell_type": "code",
   "execution_count": 28,
   "id": "d56ad6cb",
   "metadata": {},
   "outputs": [
    {
     "data": {
      "text/html": [
       "<div>\n",
       "<style scoped>\n",
       "    .dataframe tbody tr th:only-of-type {\n",
       "        vertical-align: middle;\n",
       "    }\n",
       "\n",
       "    .dataframe tbody tr th {\n",
       "        vertical-align: top;\n",
       "    }\n",
       "\n",
       "    .dataframe thead th {\n",
       "        text-align: right;\n",
       "    }\n",
       "</style>\n",
       "<table border=\"1\" class=\"dataframe\">\n",
       "  <thead>\n",
       "    <tr style=\"text-align: right;\">\n",
       "      <th></th>\n",
       "      <th>0</th>\n",
       "    </tr>\n",
       "  </thead>\n",
       "  <tbody>\n",
       "    <tr>\n",
       "      <th>0</th>\n",
       "      <td>fearful</td>\n",
       "    </tr>\n",
       "    <tr>\n",
       "      <th>1</th>\n",
       "      <td>angry</td>\n",
       "    </tr>\n",
       "    <tr>\n",
       "      <th>2</th>\n",
       "      <td>fearful</td>\n",
       "    </tr>\n",
       "    <tr>\n",
       "      <th>3</th>\n",
       "      <td>angry</td>\n",
       "    </tr>\n",
       "    <tr>\n",
       "      <th>4</th>\n",
       "      <td>calm</td>\n",
       "    </tr>\n",
       "    <tr>\n",
       "      <th>5</th>\n",
       "      <td>calm</td>\n",
       "    </tr>\n",
       "    <tr>\n",
       "      <th>6</th>\n",
       "      <td>calm</td>\n",
       "    </tr>\n",
       "    <tr>\n",
       "      <th>7</th>\n",
       "      <td>calm</td>\n",
       "    </tr>\n",
       "    <tr>\n",
       "      <th>8</th>\n",
       "      <td>fearful</td>\n",
       "    </tr>\n",
       "    <tr>\n",
       "      <th>9</th>\n",
       "      <td>angry</td>\n",
       "    </tr>\n",
       "  </tbody>\n",
       "</table>\n",
       "</div>"
      ],
      "text/plain": [
       "         0\n",
       "0  fearful\n",
       "1    angry\n",
       "2  fearful\n",
       "3    angry\n",
       "4     calm\n",
       "5     calm\n",
       "6     calm\n",
       "7     calm\n",
       "8  fearful\n",
       "9    angry"
      ]
     },
     "execution_count": 28,
     "metadata": {},
     "output_type": "execute_result"
    }
   ],
   "source": [
    "labels[:10]"
   ]
  },
  {
   "cell_type": "code",
   "execution_count": null,
   "id": "312168f9",
   "metadata": {},
   "outputs": [],
   "source": [
    "df = pd.DataFrame(columns=['feature'])\n",
    "bookmark=0\n",
    "for index,y in enumerate(mylist):\n",
    "    if mylist[index][6:-16]=='02' or mylist[index][6:-16]=='03' or mylist[index][6:-16]=='04' or mylist[index][6:-16]=='05' or mylist[index][6:-16]=='06':\n",
    "        X, sample_rate = librosa.load('RawData/'+y, res_type='kaiser_fast',duration=2.5,sr=22050*2,offset=0.5)\n",
    "        sample_rate = np.array(sample_rate)\n",
    "        mfccs = np.mean(librosa.feature.mfcc(y=X, \n",
    "                                            sr=sample_rate, \n",
    "                                            n_mfcc=13),\n",
    "                        axis=0)\n",
    "        feature = mfccs\n",
    "        #[float(i) for i in feature]\n",
    "        #feature1=feature[:135]\n",
    "        df.loc[bookmark] = [feature]\n",
    "        bookmark=bookmark+1   "
   ]
  }
 ],
 "metadata": {
  "kernelspec": {
   "display_name": "Python 3 (ipykernel)",
   "language": "python",
   "name": "python3"
  },
  "language_info": {
   "codemirror_mode": {
    "name": "ipython",
    "version": 3
   },
   "file_extension": ".py",
   "mimetype": "text/x-python",
   "name": "python",
   "nbconvert_exporter": "python",
   "pygments_lexer": "ipython3",
   "version": "3.8.16"
  }
 },
 "nbformat": 4,
 "nbformat_minor": 5
}
